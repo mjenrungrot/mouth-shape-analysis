{
 "cells": [
  {
   "cell_type": "code",
   "execution_count": 12,
   "metadata": {
    "ExecuteTime": {
     "end_time": "2018-03-29T18:32:51.108433Z",
     "start_time": "2018-03-29T18:32:50.383373Z"
    }
   },
   "outputs": [],
   "source": [
    "import numpy.linalg as ln\n",
    "import os\n",
    "import numpy as np\n",
    "import scipy.signal\n",
    "import pandas as pd\n",
    "from pandas.core.resample import Resampler\n",
    "import matplotlib.pyplot as plt\n",
    "from matplotlib.animation import FuncAnimation\n",
    "from IPython.display import HTML\n",
    "%matplotlib inline"
   ]
  },
  {
   "cell_type": "markdown",
   "metadata": {},
   "source": [
    "# Load MouthShape\n",
    "- Load mouth-shape matrix\n",
    "- Normalize the mouth-shape with zero center\n",
    "- Up-sample the mouth-shape"
   ]
  },
  {
   "cell_type": "code",
   "execution_count": 75,
   "metadata": {
    "ExecuteTime": {
     "end_time": "2018-03-29T19:15:21.741229Z",
     "start_time": "2018-03-29T19:15:21.598390Z"
    }
   },
   "outputs": [],
   "source": [
    "def load_mouthshape(filename='mouth.txt', nFramesUpsampled = 1848000):\n",
    "    filename = os.path.abspath(filename)\n",
    "    file =  open(filename, \"r\")\n",
    "    lines = file.readlines()\n",
    "    nums = [ x.split() for x in lines ]\n",
    "    mouthShape = np.array([ [ int(x)  for x in array   ]  for array in nums ])\n",
    "    \n",
    "    # Normalize the mouth shape\n",
    "    n,d = mouthShape.shape\n",
    "    mouthShapeNorm = []\n",
    "    for i in range(n):\n",
    "        xs = [mouthShape[i][k] for k in range(0,len(mouthShape[i]),2) ]\n",
    "        meanX = np.mean(xs)\n",
    "        ys = [mouthShape[i][k] for k in range(1,len(mouthShape[i]),2) ]\n",
    "        meanY = np.mean(ys)\n",
    "\n",
    "        xs = [x - meanX for x in xs]\n",
    "        ys = [y - meanY for y in ys]\n",
    "        meanShape = []\n",
    "        for j in range(len(mouthShape[i])//2):\n",
    "            meanShape += [xs[j],ys[j]]\n",
    "        mouthShapeNorm += [meanShape]\n",
    "\n",
    "    mouthShape = mouthShapeNorm\n",
    "    mouthShape = np.array(mouthShape)    \n",
    "    \n",
    "    # Upsample\n",
    "    idxs1  = np.arange(0, mouthShape.shape[0])\n",
    "    idxs2 = np.linspace(0, nFramesUpsampled, num=mouthShape.shape[0], endpoint=False, dtype='int64')\n",
    "    upsampled = np.empty((nFramesUpsampled, mouthShape.shape[1]))\n",
    "    upsampled[:] = np.nan\n",
    "    upsampled[idxs2] = mouthShape[idxs1]\n",
    "    df = pd.DataFrame(data=upsampled)\n",
    "    df = df.interpolate(method='linear')\n",
    "    mouthShapeResampled = df.values\n",
    "    \n",
    "    return mouthShapeResampled"
   ]
  },
  {
   "cell_type": "markdown",
   "metadata": {
    "collapsed": true
   },
   "source": [
    "Now `mouthShape` has is an array storing the coordinates of the points describing the mouth shape, in the following format:\n",
    "\n",
    "| Frame id | X[row][0] | X[row][1] | X[row][2] | X[row][3] |\n",
    "|----------|------|------|------|------|\n",
    "| Frame 0  | x(0) | y(0) | x(1) | y(1) |\n",
    "| Frame 1  | x(0) | y(0) | x(1) | y(1) |"
   ]
  },
  {
   "cell_type": "code",
   "execution_count": 88,
   "metadata": {
    "ExecuteTime": {
     "end_time": "2018-03-29T19:18:41.320429Z",
     "start_time": "2018-03-29T19:18:35.297510Z"
    }
   },
   "outputs": [
    {
     "name": "stdout",
     "output_type": "stream",
     "text": [
      "(1848000, 40)\n"
     ]
    }
   ],
   "source": [
    "mouthShapeResampled = load_mouthshape()\n",
    "print(mouthShapeResampled.shape)"
   ]
  },
  {
   "cell_type": "markdown",
   "metadata": {
    "collapsed": true
   },
   "source": [
    "# Load PCA matrix\n",
    "- Load PCA matrix\n",
    "- Up-sample PCA matrix"
   ]
  },
  {
   "cell_type": "code",
   "execution_count": 93,
   "metadata": {
    "ExecuteTime": {
     "end_time": "2018-03-29T19:20:23.798332Z",
     "start_time": "2018-03-29T19:20:23.731729Z"
    }
   },
   "outputs": [],
   "source": [
    "def load_PCA(filename='PCA.txt', nFramesUpsampled = 1848000, train=False):\n",
    "    filename = os.path.abspath(filename)\n",
    "    lines = [line.rstrip('\\n') for line in open(filename, \"r\")]\n",
    "    elements = [] # list of lists of strings of numbers\n",
    "    lines = lines[1:]\n",
    "    for line in lines:\n",
    "        elements += [line.split(' ')[1:]]\n",
    "\n",
    "    pca = np.array([[float(x) for x in line] for line in elements])\n",
    "\n",
    "    if not train:\n",
    "        return pca\n",
    "    \n",
    "    # Upsample\n",
    "    idxs1  = np.arange(0, pca.shape[0])\n",
    "    idxs2 = np.linspace(0, nFramesUpsampled, num=pca.shape[0], endpoint=False, dtype='int64')\n",
    "    upsampled = np.empty((nFramesUpsampled, pca.shape[1]))\n",
    "    upsampled[:] = np.nan\n",
    "    upsampled[idxs2] = pca[idxs1]\n",
    "    df = pd.DataFrame(data=upsampled)\n",
    "    df = df.interpolate(method='linear')\n",
    "    pcaResampled = df.values\n",
    "    \n",
    "    return pcaResampled"
   ]
  },
  {
   "cell_type": "code",
   "execution_count": 89,
   "metadata": {
    "ExecuteTime": {
     "end_time": "2018-03-29T19:18:44.911453Z",
     "start_time": "2018-03-29T19:18:42.322420Z"
    }
   },
   "outputs": [
    {
     "name": "stdout",
     "output_type": "stream",
     "text": [
      "(1848000, 20)\n"
     ]
    }
   ],
   "source": [
    "pcaResampled = load_PCA(train=True)\n",
    "print(pcaResampled.shape)"
   ]
  },
  {
   "cell_type": "markdown",
   "metadata": {
    "collapsed": true
   },
   "source": [
    "# Matrix Inversion"
   ]
  },
  {
   "cell_type": "code",
   "execution_count": 91,
   "metadata": {
    "ExecuteTime": {
     "end_time": "2018-03-29T19:19:05.014074Z",
     "start_time": "2018-03-29T19:19:01.256618Z"
    }
   },
   "outputs": [
    {
     "name": "stdout",
     "output_type": "stream",
     "text": [
      "(20, 40)\n"
     ]
    }
   ],
   "source": [
    "pcaInv = ln.pinv(pcaResampled)\n",
    "transformationMatrix = pcaInv @ mouthShapeResampled\n",
    "print(transformationMatrix.shape)"
   ]
  },
  {
   "cell_type": "markdown",
   "metadata": {},
   "source": [
    "# Test on original video"
   ]
  },
  {
   "cell_type": "markdown",
   "metadata": {},
   "source": [
    "## Load PCA data"
   ]
  },
  {
   "cell_type": "code",
   "execution_count": 16,
   "metadata": {
    "collapsed": true
   },
   "outputs": [],
   "source": [
    "#Number of frames we use to make the animation\n",
    "testNFrames = 36960"
   ]
  },
  {
   "cell_type": "code",
   "execution_count": 96,
   "metadata": {
    "ExecuteTime": {
     "end_time": "2018-03-29T19:20:41.770490Z",
     "start_time": "2018-03-29T19:20:41.314886Z"
    }
   },
   "outputs": [
    {
     "name": "stdout",
     "output_type": "stream",
     "text": [
      "(18480, 40)\n"
     ]
    }
   ],
   "source": [
    "#we compute mouthShape data using our matrix\n",
    "pcaEval = load_PCA(train=False)\n",
    "transformedPCA = pcaEval @ transformationMatrix\n",
    "X = np.array(transformedPCA)\n",
    "print(X.shape)"
   ]
  },
  {
   "cell_type": "markdown",
   "metadata": {},
   "source": [
    "## Load original mouth data"
   ]
  },
  {
   "cell_type": "code",
   "execution_count": 103,
   "metadata": {
    "ExecuteTime": {
     "end_time": "2018-03-29T19:25:54.180341Z",
     "start_time": "2018-03-29T19:25:48.360793Z"
    }
   },
   "outputs": [
    {
     "name": "stdout",
     "output_type": "stream",
     "text": [
      "(18480, 40)\n"
     ]
    }
   ],
   "source": [
    "mouthShapeResampled = load_mouthshape()\n",
    "subsampled_idxs = np.linspace(0, mouthShapeResampled.shape[0], num=X.shape[0], endpoint=False, dtype='int64')\n",
    "Y = mouthShapeResampled[subsampled_idxs]\n",
    "print(Y.shape)"
   ]
  },
  {
   "cell_type": "markdown",
   "metadata": {},
   "source": [
    "## Visualization"
   ]
  },
  {
   "cell_type": "code",
   "execution_count": 104,
   "metadata": {
    "ExecuteTime": {
     "end_time": "2018-03-29T19:25:55.869245Z",
     "start_time": "2018-03-29T19:25:55.864445Z"
    }
   },
   "outputs": [
    {
     "name": "stdout",
     "output_type": "stream",
     "text": [
      "(18480, 40)\n"
     ]
    }
   ],
   "source": [
    "assert X.shape == Y.shape\n",
    "n,d = X.shape\n",
    "print(X.shape)"
   ]
  },
  {
   "cell_type": "code",
   "execution_count": 110,
   "metadata": {
    "ExecuteTime": {
     "end_time": "2018-03-29T19:30:35.510431Z",
     "start_time": "2018-03-29T19:30:35.436642Z"
    }
   },
   "outputs": [],
   "source": [
    "def find_limits(X, Y):\n",
    "    def find_limit(A):\n",
    "        x_min = np.inf\n",
    "        x_max = -np.inf\n",
    "        y_min = np.inf\n",
    "        y_max = -np.inf\n",
    "        for row in range(A.shape[0]):\n",
    "            for col in range(A.shape[1]):\n",
    "                if col % 2 == 0:\n",
    "                    x_min = min(x_min, A[row][col])\n",
    "                    x_max = max(x_max, A[row][col])\n",
    "                else:\n",
    "                    y_min = min(y_min, A[row][col])\n",
    "                    y_max = max(y_max, A[row][col])\n",
    "        return (x_min, x_max), (y_min, y_max)\n",
    "        \n",
    "    (lim_x1, lim_y1) = find_limit(X)\n",
    "    (lim_x2, lim_y2) = find_limit(Y)\n",
    "    return (min(lim_x1[0],lim_x2[0]), max(lim_x1[1],lim_x2[1])), \\\n",
    "           (min(lim_y1[0],lim_y2[0]), max(lim_y1[1],lim_y2[1]))"
   ]
  },
  {
   "cell_type": "code",
   "execution_count": 117,
   "metadata": {
    "ExecuteTime": {
     "end_time": "2018-03-29T19:36:43.457133Z",
     "start_time": "2018-03-29T19:36:40.661944Z"
    }
   },
   "outputs": [
    {
     "data": {
      "image/png": "[encoded data removed]",
      "text/plain": [
       "<matplotlib.figure.Figure at 0x111a010f0>"
      ]
     },
     "metadata": {},
     "output_type": "display_data"
    }
   ],
   "source": [
    "fig = plt.figure()\n",
    "(xlim, ylim) = find_limits(X, Y)\n",
    "ax = plt.axes(xlim=xlim, ylim=ylim)\n",
    "\n",
    "# Placeholder for 2 animations\n",
    "plots = [plt.plot([], [], 'bo', alpha=0.5, label='PCA (generated)')[0], plt.plot([], [], 'ro', alpha=0.5, label='Actual')[0]] \n",
    "legend = plt.legend()\n",
    "\n",
    "def get_coords(X, frame, dim):\n",
    "    x_coords = []\n",
    "    y_coords = []\n",
    "    for k in range(0, dim//2):\n",
    "        x_coords.append(X[frame][2*k])\n",
    "        y_coords.append(X[frame][2*(k)+1])\n",
    "    return x_coords, y_coords\n",
    "\n",
    "def init():\n",
    "    for plot in plots:\n",
    "        plot.set_data([], [])\n",
    "    return plots\n",
    "\n",
    "def animate(frameIdx):\n",
    "    global X, Y\n",
    "    \n",
    "    x_coords, y_coords = get_coords(X, frameIdx, d)\n",
    "    plots[0].set_data(x_coords, y_coords)\n",
    "    \n",
    "    x_coords, y_coords = get_coords(Y, frameIdx, d)\n",
    "    plots[1].set_data(x_coords, y_coords)\n",
    "    \n",
    "    legend.remove()\n",
    "    legend = plt.legend()\n",
    "    return plots + [legend]\n",
    "\n",
    "anim = animation.FuncAnimation(fig, animate, init_func=init, frames=1000, interval=30)"
   ]
  },
  {
   "cell_type": "code",
   "execution_count": 118,
   "metadata": {
    "ExecuteTime": {
     "end_time": "2018-03-29T19:36:44.658330Z",
     "start_time": "2018-03-29T19:36:44.493291Z"
    }
   },
   "outputs": [
    {
     "ename": "UnboundLocalError",
     "evalue": "local variable 'legend' referenced before assignment",
     "output_type": "error",
     "traceback": [
      "\u001b[0;31m---------------------------------------------------------------------------\u001b[0m",
      "\u001b[0;31mUnboundLocalError\u001b[0m                         Traceback (most recent call last)",
      "\u001b[0;32m<ipython-input-118-f885f4acf935>\u001b[0m in \u001b[0;36m<module>\u001b[0;34m()\u001b[0m\n\u001b[0;32m----> 1\u001b[0;31m \u001b[0mHTML\u001b[0m\u001b[0;34m(\u001b[0m\u001b[0manim\u001b[0m\u001b[0;34m.\u001b[0m\u001b[0mto_html5_video\u001b[0m\u001b[0;34m(\u001b[0m\u001b[0;34m)\u001b[0m\u001b[0;34m)\u001b[0m\u001b[0;34m\u001b[0m\u001b[0m\n\u001b[0m",
      "\u001b[0;32m~/anaconda3/lib/python3.5/site-packages/matplotlib/animation.py\u001b[0m in \u001b[0;36mto_html5_video\u001b[0;34m(self, embed_limit)\u001b[0m\n\u001b[1;32m   1411\u001b[0m                                 \u001b[0mbitrate\u001b[0m\u001b[0;34m=\u001b[0m\u001b[0mrcParams\u001b[0m\u001b[0;34m[\u001b[0m\u001b[0;34m'animation.bitrate'\u001b[0m\u001b[0;34m]\u001b[0m\u001b[0;34m,\u001b[0m\u001b[0;34m\u001b[0m\u001b[0m\n\u001b[1;32m   1412\u001b[0m                                 fps=1000. / self._interval)\n\u001b[0;32m-> 1413\u001b[0;31m                 \u001b[0mself\u001b[0m\u001b[0;34m.\u001b[0m\u001b[0msave\u001b[0m\u001b[0;34m(\u001b[0m\u001b[0mf\u001b[0m\u001b[0;34m.\u001b[0m\u001b[0mname\u001b[0m\u001b[0;34m,\u001b[0m \u001b[0mwriter\u001b[0m\u001b[0;34m=\u001b[0m\u001b[0mwriter\u001b[0m\u001b[0;34m)\u001b[0m\u001b[0;34m\u001b[0m\u001b[0m\n\u001b[0m\u001b[1;32m   1414\u001b[0m \u001b[0;34m\u001b[0m\u001b[0m\n\u001b[1;32m   1415\u001b[0m             \u001b[0;31m# Now open and base64 encode\u001b[0m\u001b[0;34m\u001b[0m\u001b[0;34m\u001b[0m\u001b[0m\n",
      "\u001b[0;32m~/anaconda3/lib/python3.5/site-packages/matplotlib/animation.py\u001b[0m in \u001b[0;36msave\u001b[0;34m(self, filename, writer, fps, dpi, codec, bitrate, extra_args, metadata, extra_anim, savefig_kwargs)\u001b[0m\n\u001b[1;32m   1257\u001b[0m                     \u001b[0;32mfor\u001b[0m \u001b[0manim\u001b[0m\u001b[0;34m,\u001b[0m \u001b[0md\u001b[0m \u001b[0;32min\u001b[0m \u001b[0mzip\u001b[0m\u001b[0;34m(\u001b[0m\u001b[0mall_anim\u001b[0m\u001b[0;34m,\u001b[0m \u001b[0mdata\u001b[0m\u001b[0;34m)\u001b[0m\u001b[0;34m:\u001b[0m\u001b[0;34m\u001b[0m\u001b[0m\n\u001b[1;32m   1258\u001b[0m                         \u001b[0;31m# TODO: See if turning off blit is really necessary\u001b[0m\u001b[0;34m\u001b[0m\u001b[0;34m\u001b[0m\u001b[0m\n\u001b[0;32m-> 1259\u001b[0;31m                         \u001b[0manim\u001b[0m\u001b[0;34m.\u001b[0m\u001b[0m_draw_next_frame\u001b[0m\u001b[0;34m(\u001b[0m\u001b[0md\u001b[0m\u001b[0;34m,\u001b[0m \u001b[0mblit\u001b[0m\u001b[0;34m=\u001b[0m\u001b[0;32mFalse\u001b[0m\u001b[0;34m)\u001b[0m\u001b[0;34m\u001b[0m\u001b[0m\n\u001b[0m\u001b[1;32m   1260\u001b[0m                     \u001b[0mwriter\u001b[0m\u001b[0;34m.\u001b[0m\u001b[0mgrab_frame\u001b[0m\u001b[0;34m(\u001b[0m\u001b[0;34m**\u001b[0m\u001b[0msavefig_kwargs\u001b[0m\u001b[0;34m)\u001b[0m\u001b[0;34m\u001b[0m\u001b[0m\n\u001b[1;32m   1261\u001b[0m \u001b[0;34m\u001b[0m\u001b[0m\n",
      "\u001b[0;32m~/anaconda3/lib/python3.5/site-packages/matplotlib/animation.py\u001b[0m in \u001b[0;36m_draw_next_frame\u001b[0;34m(self, framedata, blit)\u001b[0m\n\u001b[1;32m   1294\u001b[0m         \u001b[0;31m# post- draw, as well as the drawing of the frame itself.\u001b[0m\u001b[0;34m\u001b[0m\u001b[0;34m\u001b[0m\u001b[0m\n\u001b[1;32m   1295\u001b[0m         \u001b[0mself\u001b[0m\u001b[0;34m.\u001b[0m\u001b[0m_pre_draw\u001b[0m\u001b[0;34m(\u001b[0m\u001b[0mframedata\u001b[0m\u001b[0;34m,\u001b[0m \u001b[0mblit\u001b[0m\u001b[0;34m)\u001b[0m\u001b[0;34m\u001b[0m\u001b[0m\n\u001b[0;32m-> 1296\u001b[0;31m         \u001b[0mself\u001b[0m\u001b[0;34m.\u001b[0m\u001b[0m_draw_frame\u001b[0m\u001b[0;34m(\u001b[0m\u001b[0mframedata\u001b[0m\u001b[0;34m)\u001b[0m\u001b[0;34m\u001b[0m\u001b[0m\n\u001b[0m\u001b[1;32m   1297\u001b[0m         \u001b[0mself\u001b[0m\u001b[0;34m.\u001b[0m\u001b[0m_post_draw\u001b[0m\u001b[0;34m(\u001b[0m\u001b[0mframedata\u001b[0m\u001b[0;34m,\u001b[0m \u001b[0mblit\u001b[0m\u001b[0;34m)\u001b[0m\u001b[0;34m\u001b[0m\u001b[0m\n\u001b[1;32m   1298\u001b[0m \u001b[0;34m\u001b[0m\u001b[0m\n",
      "\u001b[0;32m~/anaconda3/lib/python3.5/site-packages/matplotlib/animation.py\u001b[0m in \u001b[0;36m_draw_frame\u001b[0;34m(self, framedata)\u001b[0m\n\u001b[1;32m   1812\u001b[0m         \u001b[0;31m# Call the func with framedata and args. If blitting is desired,\u001b[0m\u001b[0;34m\u001b[0m\u001b[0;34m\u001b[0m\u001b[0m\n\u001b[1;32m   1813\u001b[0m         \u001b[0;31m# func needs to return a sequence of any artists that were modified.\u001b[0m\u001b[0;34m\u001b[0m\u001b[0;34m\u001b[0m\u001b[0m\n\u001b[0;32m-> 1814\u001b[0;31m         \u001b[0mself\u001b[0m\u001b[0;34m.\u001b[0m\u001b[0m_drawn_artists\u001b[0m \u001b[0;34m=\u001b[0m \u001b[0mself\u001b[0m\u001b[0;34m.\u001b[0m\u001b[0m_func\u001b[0m\u001b[0;34m(\u001b[0m\u001b[0mframedata\u001b[0m\u001b[0;34m,\u001b[0m \u001b[0;34m*\u001b[0m\u001b[0mself\u001b[0m\u001b[0;34m.\u001b[0m\u001b[0m_args\u001b[0m\u001b[0;34m)\u001b[0m\u001b[0;34m\u001b[0m\u001b[0m\n\u001b[0m\u001b[1;32m   1815\u001b[0m         \u001b[0;32mif\u001b[0m \u001b[0mself\u001b[0m\u001b[0;34m.\u001b[0m\u001b[0m_blit\u001b[0m\u001b[0;34m:\u001b[0m\u001b[0;34m\u001b[0m\u001b[0m\n\u001b[1;32m   1816\u001b[0m             \u001b[0;32mif\u001b[0m \u001b[0mself\u001b[0m\u001b[0;34m.\u001b[0m\u001b[0m_drawn_artists\u001b[0m \u001b[0;32mis\u001b[0m \u001b[0;32mNone\u001b[0m\u001b[0;34m:\u001b[0m\u001b[0;34m\u001b[0m\u001b[0m\n",
      "\u001b[0;32m<ipython-input-117-040ec0c59ab2>\u001b[0m in \u001b[0;36manimate\u001b[0;34m(frameIdx)\u001b[0m\n\u001b[1;32m     29\u001b[0m     \u001b[0mplots\u001b[0m\u001b[0;34m[\u001b[0m\u001b[0;36m1\u001b[0m\u001b[0;34m]\u001b[0m\u001b[0;34m.\u001b[0m\u001b[0mset_data\u001b[0m\u001b[0;34m(\u001b[0m\u001b[0mx_coords\u001b[0m\u001b[0;34m,\u001b[0m \u001b[0my_coords\u001b[0m\u001b[0;34m)\u001b[0m\u001b[0;34m\u001b[0m\u001b[0m\n\u001b[1;32m     30\u001b[0m \u001b[0;34m\u001b[0m\u001b[0m\n\u001b[0;32m---> 31\u001b[0;31m     \u001b[0mlegend\u001b[0m\u001b[0;34m.\u001b[0m\u001b[0mremove\u001b[0m\u001b[0;34m(\u001b[0m\u001b[0;34m)\u001b[0m\u001b[0;34m\u001b[0m\u001b[0m\n\u001b[0m\u001b[1;32m     32\u001b[0m     \u001b[0mlegend\u001b[0m \u001b[0;34m=\u001b[0m \u001b[0mplt\u001b[0m\u001b[0;34m.\u001b[0m\u001b[0mlegend\u001b[0m\u001b[0;34m(\u001b[0m\u001b[0;34m)\u001b[0m\u001b[0;34m\u001b[0m\u001b[0m\n\u001b[1;32m     33\u001b[0m     \u001b[0;32mreturn\u001b[0m \u001b[0mplots\u001b[0m \u001b[0;34m+\u001b[0m \u001b[0;34m[\u001b[0m\u001b[0mlegend\u001b[0m\u001b[0;34m]\u001b[0m\u001b[0;34m\u001b[0m\u001b[0m\n",
      "\u001b[0;31mUnboundLocalError\u001b[0m: local variable 'legend' referenced before assignment"
     ]
    }
   ],
   "source": [
    "HTML(anim.to_html5_video())"
   ]
  },
  {
   "cell_type": "code",
   "execution_count": null,
   "metadata": {},
   "outputs": [],
   "source": []
  },
  {
   "cell_type": "code",
   "execution_count": null,
   "metadata": {},
   "outputs": [],
   "source": []
  }
 ],
 "metadata": {
  "anaconda-cloud": {},
  "kernelspec": {
   "display_name": "Python [default]",
   "language": "python",
   "name": "python3"
  },
  "language_info": {
   "codemirror_mode": {
    "name": "ipython",
    "version": 3
   },
   "file_extension": ".py",
   "mimetype": "text/x-python",
   "name": "python",
   "nbconvert_exporter": "python",
   "pygments_lexer": "ipython3",
   "version": "3.5.2"
  },
  "latex_envs": {
   "LaTeX_envs_menu_present": true,
   "autoclose": false,
   "autocomplete": true,
   "bibliofile": "biblio.bib",
   "cite_by": "apalike",
   "current_citInitial": 1,
   "eqLabelWithNumbers": true,
   "eqNumInitial": 1,
   "hotkeys": {
    "equation": "Ctrl-E",
    "itemize": "Ctrl-I"
   },
   "labels_anchors": false,
   "latex_user_defs": false,
   "report_style_numbering": false,
   "user_envs_cfg": false
  },
  "toc": {
   "nav_menu": {},
   "number_sections": true,
   "sideBar": true,
   "skip_h1_title": false,
   "title_cell": "Table of Contents",
   "title_sidebar": "Contents",
   "toc_cell": false,
   "toc_position": {},
   "toc_section_display": true,
   "toc_window_display": false
  },
  "varInspector": {
   "cols": {
    "lenName": 16,
    "lenType": 16,
    "lenVar": 40
   },
   "kernels_config": {
    "python": {
     "delete_cmd_postfix": "",
     "delete_cmd_prefix": "del ",
     "library": "var_list.py",
     "varRefreshCmd": "print(var_dic_list())"
    },
    "r": {
     "delete_cmd_postfix": ") ",
     "delete_cmd_prefix": "rm(",
     "library": "var_list.r",
     "varRefreshCmd": "cat(var_dic_list()) "
    }
   },
   "types_to_exclude": [
    "module",
    "function",
    "builtin_function_or_method",
    "instance",
    "_Feature"
   ],
   "window_display": false
  }
 },
 "nbformat": 4,
 "nbformat_minor": 2
}
