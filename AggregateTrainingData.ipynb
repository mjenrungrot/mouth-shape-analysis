{
 "cells": [
  {
   "cell_type": "code",
   "execution_count": 1,
   "metadata": {
    "collapsed": true
   },
   "outputs": [],
   "source": [
    "import os"
   ]
  },
  {
   "cell_type": "code",
   "execution_count": 37,
   "metadata": {
    "collapsed": true
   },
   "outputs": [],
   "source": [
    "#numbers of files to load\n",
    "nFiles = 4"
   ]
  },
  {
   "cell_type": "code",
   "execution_count": 38,
   "metadata": {},
   "outputs": [],
   "source": [
    "#concat all pcaTrainFiles\n",
    "fname = os.path.abspath(\"Train/pcaTrainAggregate.txt\")\n",
    "F = open(fname,'w')\n",
    "text = \"\"\n",
    "fnammee = 'Train/pcaTrain'\n",
    "for n in range(1,nFiles+1):\n",
    "    lines = open(fnammee+str(n)+\".txt\").readlines()\n",
    "    lines = lines[1:]\n",
    "    for line in lines:\n",
    "        F.write(line)\n",
    "    \n",
    "    \n",
    "F.close()"
   ]
  },
  {
   "cell_type": "code",
   "execution_count": 39,
   "metadata": {},
   "outputs": [],
   "source": [
    "#concat all pcaTrainFiles\n",
    "fname = os.path.abspath(\"Train/mouthTrainAggregate.txt\")\n",
    "F1 = open(fname,'w')\n",
    "text = \"\"\n",
    "fnammee = 'Train/mouthTrain'\n",
    "\n",
    "\n",
    "for n in range(1,nFiles+1):\n",
    "    lines = open(fnammee+str(n)+\".txt\").readlines()\n",
    "    for line in lines:\n",
    "        F1.write(line)\n",
    "    \n",
    "\n",
    "F1.close()\n"
   ]
  },
  {
   "cell_type": "code",
   "execution_count": null,
   "metadata": {
    "collapsed": true
   },
   "outputs": [],
   "source": []
  }
 ],
 "metadata": {
  "kernelspec": {
   "display_name": "Python 3",
   "language": "python",
   "name": "python3"
  },
  "language_info": {
   "codemirror_mode": {
    "name": "ipython",
    "version": 3
   },
   "file_extension": ".py",
   "mimetype": "text/x-python",
   "name": "python",
   "nbconvert_exporter": "python",
   "pygments_lexer": "ipython3",
   "version": "3.6.3"
  }
 },
 "nbformat": 4,
 "nbformat_minor": 2
}
